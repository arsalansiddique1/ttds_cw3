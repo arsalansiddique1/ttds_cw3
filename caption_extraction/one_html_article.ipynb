{
 "cells": [
  {
   "cell_type": "markdown",
   "metadata": {},
   "source": [
    "### checking how mwparserfromhtml works when rerieving article through api"
   ]
  },
  {
   "cell_type": "code",
   "execution_count": 3,
   "metadata": {},
   "outputs": [
    {
     "name": "stdout",
     "output_type": "stream",
     "text": [
      "Article Name: Anarchism\n",
      "Abstract: Anarchism is a political philosophy and movement that is skeptical of all justifications for authority and seeks to abolish the institutions it claims maintain unnecessary coercion and hierarchy, typically including nation-states, and capitalism. Anarchism advocates for the replacement of the state with stateless societies and voluntary free associations. As a historically left-wing movement, this reading of anarchism is placed on the farthest left of the political spectrum, usually described as the libertarian wing of the socialist movement (libertarian socialism).\n"
     ]
    }
   ],
   "source": [
    "from mwparserfromhtml import Article\n",
    "import requests\n",
    "\n",
    "lang = \"en\"\n",
    "title = \"Anarchism\"\n",
    "r = requests.get(f'https://{lang}.wikipedia.org/api/rest_v1/page/html/{title}')\n",
    "article = Article(r.text)\n",
    "print(f\"Article Name: {article.get_title()}\")\n",
    "print(f\"Abstract: {article.wikistew.get_first_paragraph()}\")\n"
   ]
  },
  {
   "cell_type": "code",
   "execution_count": 7,
   "metadata": {},
   "outputs": [
    {
     "name": "stdout",
     "output_type": "stream",
     "text": [
      "Categories: Articles with short description\n",
      "Categories: Short description matches Wikidata\n",
      "Categories: Wikipedia indefinitely semi-protected pages#Anarchism\n",
      "Categories: Good articles\n",
      "Categories: Use British English from August 2021\n",
      "Categories: Use dmy dates from August 2021\n",
      "Categories: Use shortened footnotes from May 2023\n",
      "Categories: Pages using sidebar with the child parameter\n",
      "Categories: Articles containing French-language text\n",
      "Categories: Articles containing French-language text\n",
      "Categories: Articles prone to spam from November 2014\n",
      "Categories: Articles with Curlie links\n",
      "Categories: Articles with excerpts\n",
      "Categories: Articles with excerpts\n",
      "Categories: Articles with excerpts\n",
      "Categories: Articles with excerpts\n",
      "Categories: Articles with excerpts\n",
      "Categories: Articles with excerpts\n",
      "Categories: Articles with excerpts\n",
      "Categories: Articles with excerpts\n",
      "Categories: Articles with excerpts\n",
      "Categories: Articles with FAST identifiers\n",
      "Categories: Articles with BNE identifiers\n",
      "Categories: Articles with BNF identifiers\n",
      "Categories: Articles with BNFdata identifiers\n",
      "Categories: Articles with GND identifiers\n",
      "Categories: Articles with J9U identifiers\n",
      "Categories: Articles with LCCN identifiers\n",
      "Categories: Articles with Libris identifiers\n",
      "Categories: Articles with LNB identifiers\n",
      "Categories: Articles with NDL identifiers\n",
      "Categories: Articles with NKC identifiers\n",
      "Categories: Articles with PLWABN identifiers\n",
      "Categories: Articles with EMU identifiers\n",
      "Categories: Articles with HDS identifiers\n",
      "Categories: Articles with SUDOC identifiers\n",
      "Categories: Anarchism#%20\n",
      "Categories: Anti-capitalism\n",
      "Categories: Anti-fascism\n",
      "Categories: Economic ideologies\n",
      "Categories: Far-left politics\n",
      "Categories: Left-wing politics\n",
      "Categories: Libertarian socialism\n",
      "Categories: Libertarianism\n",
      "Categories: Political culture\n",
      "Categories: Political ideologies\n",
      "Categories: Political movements\n",
      "Categories: Social theories\n",
      "Categories: Socialism\n"
     ]
    }
   ],
   "source": [
    "#check categories for article\n",
    "for category in article.wikistew.get_categories():\n",
    "    print(f\"Categories: {category.title}\")"
   ]
  },
  {
   "cell_type": "code",
   "execution_count": 8,
   "metadata": {},
   "outputs": [
    {
     "name": "stdout",
     "output_type": "stream",
     "text": [
      "\"Circle-A\" anarchy symbol\n",
      "\n",
      "\n",
      "Wilhelm Weitling is an example of a writer who added to anarchist theory without using the exact term.[2]\n",
      "Zeno of Citium (c. 334 – c. 262 BC), whose Republic inspired Peter Kropotkin[28]\n",
      "Mikhail Bakunin opposed the Marxist aim of dictatorship of the proletariat and allied himself with the federalists in the First International before his expulsion by the Marxists.\n",
      "Nestor Makhno seen with members of the anarchist Revolutionary Insurgent Army of Ukraine\n",
      "Rojava's support efforts for workers to form cooperatives is exemplified in this sewing cooperative.\n",
      "Pierre-Joseph Proudhon is the primary proponent of mutualism and influenced many future individualist anarchist and social anarchist thinkers.[86]\n",
      "Lawrence Jarach (left) and John Zerzan (right) are two prominent contemporary anarchist authors, with Zerzan being a prominent voice within anarcho-primitivism and Jarach a notable advocate of post-left anarchy.\n",
      "The relationship between anarchism and violence is a controversial subject among anarchists as shown by anarchist Leon Czolgosz assassinating William McKinley.\n",
      "Black bloc protesters parading anarcho-communism imagery such as the motto \"No War but the Class War\"\n",
      "Anarchist protesters in Boston opposing state-waged war\n",
      "Collection of anarcha-feminist protests, symbols, and flags\n",
      "Les chataigniers a Osny (1888) by anarchist painter Camille Pissarro is a notable example of blending anarchism and the arts.[172]\n",
      "\n",
      "\n",
      "\n",
      "\n",
      "\n",
      "\n",
      "\n",
      "\n",
      "\n",
      "\n",
      "\n",
      "\n",
      "\n",
      "\n",
      "\n",
      "\n",
      "\n",
      "\n"
     ]
    }
   ],
   "source": [
    "#printing image caption\n",
    "for image in article.wikistew.get_images():\n",
    "    print(image.caption) "
   ]
  }
 ],
 "metadata": {
  "kernelspec": {
   "display_name": "ttds",
   "language": "python",
   "name": "python3"
  },
  "language_info": {
   "codemirror_mode": {
    "name": "ipython",
    "version": 3
   },
   "file_extension": ".py",
   "mimetype": "text/x-python",
   "name": "python",
   "nbconvert_exporter": "python",
   "pygments_lexer": "ipython3",
   "version": "3.8.17"
  }
 },
 "nbformat": 4,
 "nbformat_minor": 2
}
