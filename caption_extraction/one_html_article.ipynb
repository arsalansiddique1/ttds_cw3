{
 "cells": [
  {
   "cell_type": "markdown",
   "metadata": {},
   "source": [
    "### checking how mwparserfromhtml works when rerieving article through api"
   ]
  },
  {
   "cell_type": "code",
   "execution_count": 35,
   "metadata": {},
   "outputs": [
    {
     "name": "stdout",
     "output_type": "stream",
     "text": [
      "Article Name: Glencoe Station\n",
      "Abstract: Glencoe Station is an Australian pastoral lease that operates as a sheep station and more recently as a cattle station. It is located about 17 kilometres (11 mi) south of Cunnamulla and 154 kilometres (96 mi) north east of Hungerford in Queensland. The property is located on the floodplain of the Warrego River.\n"
     ]
    }
   ],
   "source": [
    "from mwparserfromhtml import Article\n",
    "import requests\n",
    "\n",
    "lang = \"en\"\n",
    "title = \"Glencoe_Station\"\n",
    "r = requests.get(f'https://{lang}.wikipedia.org/api/rest_v1/page/html/{title}')\n",
    "article = Article(r.text)\n",
    "print(f\"Article Name: {article.get_title()}\")\n",
    "print(f\"Abstract: {article.wikistew.get_first_paragraph()}\")\n"
   ]
  },
  {
   "cell_type": "code",
   "execution_count": 36,
   "metadata": {},
   "outputs": [
    {
     "data": {
      "text/plain": [
       "'<!DOCTYPE html>\\n<html prefix=\"dc: http://purl.org/dc/terms/ mw: http://mediawiki.org/rdf/\" about=\"https://en.wikipedia.org/wiki/Special:Redirect/revision/1169161910\"><head prefix=\"mwr: https://en.wikipedia.org/wiki/Special:Redirect/\"><meta property=\"mw:TimeUuid\" content=\"4b9000e0-dd43-11ee-9695-a16021dceff8\"/><meta charset=\"utf-8\"/><meta property=\"mw:pageId\" content=\"37776572\"/><meta property=\"mw:pageNamespace\" content=\"0\"/><link rel=\"dc:replaces\" resource=\"mwr:revision/1169161561\"/><meta property=\"mw:revisionSHA1\" content=\"4c20dd87b223d817bb89332e66411cd8d22260c1\"/><meta property=\"dc:modified\" content=\"2023-08-07T12:33:47.000Z\"/><meta property=\"mw:htmlVersion\" content=\"2.8.0\"/><meta property=\"mw:html:version\" content=\"2.8.0\"/><link rel=\"dc:isVersionOf\" href=\"//en.wikipedia.org/wiki/Glencoe_Station\"/><base href=\"//en.wikipedia.org/wiki/\"/><title>Glencoe Station</title><meta property=\"mw:generalModules\" content=\"ext.cite.ux-enhancements\"/><meta property=\"mw:moduleStyles\" content=\"ext.cite.parsoid.styles|ext.cite.styles\"/><link rel=\"stylesheet\" href=\"/w/load.php?lang=en&amp;modules=ext.cite.parsoid.styles%7Cext.cite.styles%7Cmediawiki.skinning.content.parsoid%7Cmediawiki.skinning.interface%7Csite.styles&amp;only=styles&amp;skin=vector\"/><meta http-equiv=\"content-language\" content=\"en\"/><meta http-equiv=\"vary\" content=\"Accept\"/></head><body id=\"mwAA\" lang=\"en\" class=\"mw-content-ltr sitedir-ltr ltr mw-body-content parsoid-body mediawiki mw-parser-output\" dir=\"ltr\"><section data-mw-section-id=\"0\" id=\"mwAQ\"><div class=\"shortdescription nomobile noexcerpt noprint searchaux\" style=\"display:none\" about=\"#mwt1\" typeof=\"mw:Transclusion\" data-mw=\\'{\"parts\":[{\"template\":{\"target\":{\"wt\":\"Short description\",\"href\":\"./Template:Short_description\"},\"params\":{\"1\":{\"wt\":\"Pastoral lease and sheep/cattle station in Queensland, Australia\"}},\"i\":0}}]}\\' id=\"mwAg\">Pastoral lease and sheep/cattle station in Queensland, Australia</div><link rel=\"mw:PageProp/Category\" href=\"./Category:Articles_with_short_description\" about=\"#mwt1\"/><link rel=\"mw:PageProp/Category\" href=\"./Category:Short_description_matches_Wikidata\" about=\"#mwt1\" id=\"mwAw\"/>\\n<style data-mw-deduplicate=\"TemplateStyles:r1033289096\" typeof=\"mw:Extension/templatestyles mw:Transclusion\" about=\"#mwt2\" data-mw=\\'{\"parts\":[{\"template\":{\"target\":{\"wt\":\"for\",\"href\":\"./Template:For\"},\"params\":{\"1\":{\"wt\":\"similarly named railway stations\"},\"2\":{\"wt\":\"Glencoe station (disambiguation)\"}},\"i\":0}}]}\\' id=\"mwBA\">.mw-parser-output .hatnote{font-style:italic}.mw-parser-output div.hatnote{padding-left:1.6em;margin-bottom:0.5em}.mw-parser-output .hatnote i{font-style:normal}.mw-parser-output .hatnote+link+.hatnote{margin-top:-0.5em}</style><div role=\"note\" class=\"hatnote navigation-not-searchable\" about=\"#mwt2\" id=\"mwBQ\">For similarly named railway stations, see <a rel=\"mw:WikiLink\" href=\"./Glencoe_station_(disambiguation)\" title=\"Glencoe station (disambiguation)\" class=\"mw-disambig\">Glencoe station (disambiguation)</a>.</div>\\n<p id=\"mwBg\"><span typeof=\"mw:Nowiki mw:Transclusion\" about=\"#mwt5\" data-mw=\\'{\"parts\":[{\"template\":{\"target\":{\"wt\":\"Use Australian English\",\"href\":\"./Template:Use_Australian_English\"},\"params\":{\"date\":{\"wt\":\"June 2020\"}},\"i\":0}}]}\\' id=\"mwBw\"></span><link rel=\"mw:PageProp/Category\" href=\"./Category:Use_Australian_English_from_June_2020\" about=\"#mwt5\"/><link rel=\"mw:PageProp/Category\" href=\"./Category:All_Wikipedia_articles_written_in_Australian_English\" about=\"#mwt5\" id=\"mwCA\"/>\\n<span typeof=\"mw:Nowiki mw:Transclusion\" about=\"#mwt7\" data-mw=\\'{\"parts\":[{\"template\":{\"target\":{\"wt\":\"Use dmy dates\",\"href\":\"./Template:Use_dmy_dates\"},\"params\":{\"date\":{\"wt\":\"August 2019\"}},\"i\":0}}]}\\' id=\"mwCQ\"></span><link rel=\"mw:PageProp/Category\" href=\"./Category:Use_dmy_dates_from_August_2019\" about=\"#mwt7\" id=\"mwCg\"/></p>\\n<style data-mw-deduplicate=\"TemplateStyles:r997900035\" typeof=\"mw:Extension/templatestyles mw:Transclusion\" about=\"#mwt9\" data-mw=\\'{\"parts\":[{\"template\":{\"target\":{\"wt\":\"Location map\",\"href\":\"./Template:Location_map\"},\"params\":{\"1\":{\"wt\":\"Queensland\"},\"label\":{\"wt\":\"Glencoe&amp;nbsp;Station\"},\"position\":{\"wt\":\"top\"},\"lat_deg\":{\"wt\":\"28\"},\"lat_min\":{\"wt\":\"13\"},\"lat_sec\":{\"wt\":\"01\"},\"lat_dir\":{\"wt\":\"S\"},\"lon_deg\":{\"wt\":\"145\"},\"lon_min\":{\"wt\":\"42\"},\"lon_sec\":{\"wt\":\"44\"},\"lon_dir\":{\"wt\":\"E\"},\"caption\":{\"wt\":\"Location in Queensland\"}},\"i\":0}}]}\\' id=\"mwCw\">.mw-parser-output .locmap .od{position:absolute}.mw-parser-output .locmap .id{position:absolute;line-height:0}.mw-parser-output .locmap .l0{font-size:0;position:absolute}.mw-parser-output .locmap .pv{line-height:110%;position:absolute;text-align:center}.mw-parser-output .locmap .pl{line-height:110%;position:absolute;top:-0.75em;text-align:right}.mw-parser-output .locmap .pr{line-height:110%;position:absolute;top:-0.75em;text-align:left}.mw-parser-output .locmap .pv>div{display:inline;padding:1px}.mw-parser-output .locmap .pl>div{display:inline;padding:1px;float:right}.mw-parser-output .locmap .pr>div{display:inline;padding:1px;float:left}</style><div class=\"locmap noviewer noresize thumb tright\" about=\"#mwt9\" id=\"mwDA\"><div class=\"thumbinner\" style=\"width:242px\"><div style=\"position:relative;width:240px;border:1px solid lightgray\"><span class=\"notpageimage\" typeof=\"mw:File\" data-mw=\\'{\"caption\":\"Glencoe&lt;span typeof=\\\\\"mw:Entity\\\\\" data-parsoid=&apos;{\\\\\"src\\\\\":\\\\\"&amp;amp;nbsp;\\\\\",\\\\\"srcContent\\\\\":\\\\\"\\xa0\\\\\"}&apos;>\\xa0&lt;/span>Station is located in Queensland\"}\\'><a href=\"./File:Australia_Queensland_location_map.svg\" class=\"mw-file-description\" title=\"Glencoe\\xa0Station is located in Queensland\"><img alt=\"Glencoe\\xa0Station is located in Queensland\" resource=\"./File:Australia_Queensland_location_map.svg\" src=\"//upload.wikimedia.org/wikipedia/commons/thumb/0/0f/Australia_Queensland_location_map.svg/240px-Australia_Queensland_location_map.svg.png\" decoding=\"async\" data-file-width=\"1169\" data-file-height=\"1540\" data-file-type=\"drawing\" height=\"316\" width=\"240\" srcset=\"//upload.wikimedia.org/wikipedia/commons/thumb/0/0f/Australia_Queensland_location_map.svg/360px-Australia_Queensland_location_map.svg.png 1.5x, //upload.wikimedia.org/wikipedia/commons/thumb/0/0f/Australia_Queensland_location_map.svg/480px-Australia_Queensland_location_map.svg.png 2x\" class=\"mw-file-element\"/></a></span><div class=\"od notheme\" style=\"top:93.741%;left:49.771%\"><div class=\"id\" style=\"left:-4px;top:-4px\"><span class=\"notpageimage\" typeof=\"mw:File\" data-mw=\\'{\"caption\":\"Glencoe&lt;span typeof=\\\\\"mw:Entity\\\\\" data-parsoid=&apos;{\\\\\"src\\\\\":\\\\\"&amp;amp;nbsp;\\\\\",\\\\\"srcContent\\\\\":\\\\\"\\xa0\\\\\"}&apos;>\\xa0&lt;/span>Station\"}\\'><span title=\"Glencoe\\xa0Station\"><img alt=\"Glencoe\\xa0Station\" resource=\"./File:Red_pog.svg\" src=\"//upload.wikimedia.org/wikipedia/commons/thumb/0/0c/Red_pog.svg/8px-Red_pog.svg.png\" decoding=\"async\" data-file-width=\"64\" data-file-height=\"64\" data-file-type=\"drawing\" height=\"8\" width=\"8\" srcset=\"//upload.wikimedia.org/wikipedia/commons/thumb/0/0c/Red_pog.svg/12px-Red_pog.svg.png 1.5x, //upload.wikimedia.org/wikipedia/commons/thumb/0/0c/Red_pog.svg/16px-Red_pog.svg.png 2x\" class=\"mw-file-element\"/></span></span></div><div class=\"pv\" style=\"font-size:91%;width:6em;bottom:5px;left:-3em\"><div>Glencoe<span typeof=\"mw:Entity\">\\xa0</span>Station</div></div></div></div><div class=\"thumbcaption\"><div class=\"magnify\"><a rel=\"mw:WikiLink\" href=\"./File:Australia_Queensland_location_map.svg\" title=\"File:Australia Queensland location map.svg\">class=notpageimage| </a></div>Location in Queensland</div></div></div>\\n\\n<p id=\"mwDQ\"><b id=\"mwDg\">Glencoe Station</b> is an Australian pastoral lease that operates as a <a rel=\"mw:WikiLink\" href=\"./Sheep_station\" title=\"Sheep station\" id=\"mwDw\">sheep station</a> and more recently as a <a rel=\"mw:WikiLink\" href=\"./Cattle_station\" title=\"Cattle station\" id=\"mwEA\">cattle station</a>. It is located about <span about=\"#mwt12\" typeof=\"mw:Transclusion\" data-mw=\\'{\"parts\":[{\"template\":{\"target\":{\"wt\":\"convert\",\"href\":\"./Template:Convert\"},\"params\":{\"1\":{\"wt\":\"17\"},\"2\":{\"wt\":\"km\"},\"3\":{\"wt\":\"mi\"},\"4\":{\"wt\":\"0\"}},\"i\":0}}]}\\' id=\"mwEQ\">17 kilometres (11</span><span typeof=\"mw:Entity\" about=\"#mwt12\">\\xa0</span><span about=\"#mwt12\">mi)</span> south of <a rel=\"mw:WikiLink\" href=\"./Cunnamulla,_Queensland\" title=\"Cunnamulla, Queensland\" class=\"mw-redirect\" id=\"mwEg\">Cunnamulla</a> and <span about=\"#mwt13\" typeof=\"mw:Transclusion\" data-mw=\\'{\"parts\":[{\"template\":{\"target\":{\"wt\":\"convert\",\"href\":\"./Template:Convert\"},\"params\":{\"1\":{\"wt\":\"154\"},\"2\":{\"wt\":\"km\"},\"3\":{\"wt\":\"mi\"},\"4\":{\"wt\":\"0\"}},\"i\":0}}]}\\' id=\"mwEw\">154 kilometres (96</span><span typeof=\"mw:Entity\" about=\"#mwt13\">\\xa0</span><span about=\"#mwt13\">mi)</span> north east of <a rel=\"mw:WikiLink\" href=\"./Hungerford,_Queensland\" title=\"Hungerford, Queensland\" id=\"mwFA\">Hungerford</a> in <a rel=\"mw:WikiLink\" href=\"./Queensland\" title=\"Queensland\" id=\"mwFQ\">Queensland</a>. The property is located on the floodplain of the <a rel=\"mw:WikiLink\" href=\"./Warrego_River\" title=\"Warrego River\" id=\"mwFg\">Warrego River</a>.</p>\\n\\n<p id=\"mwFw\">The station was sold in 1909 by Mr Barney Smith to Mr Moore of <a rel=\"mw:WikiLink\" href=\"./New_South_Wales\" title=\"New South Wales\" id=\"mwGA\">New South Wales</a> together with all stock and plant.<sup about=\"#mwt18\" class=\"mw-ref reference\" id=\"cite_ref-1\" rel=\"dc:references\" typeof=\"mw:Extension/ref\" data-mw=\\'{\"name\":\"ref\",\"attrs\":{},\"body\":{\"id\":\"mw-reference-text-cite_note-1\"}}\\'><a href=\"./Glencoe_Station#cite_note-1\" style=\"counter-reset: mw-Ref 1;\" id=\"mwGQ\"><span class=\"mw-reflink-text\" id=\"mwGg\">[1]</span></a></sup></p>\\n\\n<p id=\"mwGw\">The station was \"burnt to the ground\" in 1934 causing between £1000 and £2000 damage. The owner, Ross MacDonald, and his wife were away at the time and no one was hurt in the fire.<sup about=\"#mwt23\" class=\"mw-ref reference\" id=\"cite_ref-2\" rel=\"dc:references\" typeof=\"mw:Extension/ref\" data-mw=\\'{\"name\":\"ref\",\"attrs\":{},\"body\":{\"id\":\"mw-reference-text-cite_note-2\"}}\\'><a href=\"./Glencoe_Station#cite_note-2\" style=\"counter-reset: mw-Ref 2;\" id=\"mwHA\"><span class=\"mw-reflink-text\" id=\"mwHQ\">[2]</span></a></sup></p>\\n\\n<p id=\"mwHg\">The station was running sheep and owned by a Mr. Beels in 1948.<sup about=\"#mwt28\" class=\"mw-ref reference\" id=\"cite_ref-3\" rel=\"dc:references\" typeof=\"mw:Extension/ref\" data-mw=\\'{\"name\":\"ref\",\"attrs\":{},\"body\":{\"id\":\"mw-reference-text-cite_note-3\"}}\\'><a href=\"./Glencoe_Station#cite_note-3\" style=\"counter-reset: mw-Ref 3;\" id=\"mwHw\"><span class=\"mw-reflink-text\" id=\"mwIA\">[3]</span></a></sup></p>\\n\\n<p id=\"mwIQ\">The property is prone to flooding whenever the Warrego catchment is inundated. The most recent flooding events have been in 1990, 1997 and 2008. In 2008 the property was owned by Hugh Miller who had trouble moving stock in the 2008 flood following early rains that softened the ground.<sup about=\"#mwt33\" class=\"mw-ref reference\" id=\"cite_ref-4\" rel=\"dc:references\" typeof=\"mw:Extension/ref\" data-mw=\\'{\"name\":\"ref\",\"attrs\":{},\"body\":{\"id\":\"mw-reference-text-cite_note-4\"}}\\'><a href=\"./Glencoe_Station#cite_note-4\" style=\"counter-reset: mw-Ref 4;\" id=\"mwIg\"><span class=\"mw-reflink-text\" id=\"mwIw\">[4]</span></a></sup></p>\\n\\n</section><section data-mw-section-id=\"1\" id=\"mwJA\"><h2 id=\"See_also\">See also</h2>\\n<ul id=\"mwJQ\"><li id=\"mwJg\"><a rel=\"mw:WikiLink\" href=\"./List_of_ranches_and_stations\" title=\"List of ranches and stations\" id=\"mwJw\">List of ranches and stations</a></li></ul>\\n\\n</section><section data-mw-section-id=\"2\" id=\"mwKA\"><h2 id=\"References\">References</h2>\\n<style data-mw-deduplicate=\"TemplateStyles:r1011085734\" typeof=\"mw:Extension/templatestyles mw:Transclusion\" about=\"#mwt34\" data-mw=\\'{\"parts\":[{\"template\":{\"target\":{\"wt\":\"Reflist\",\"href\":\"./Template:Reflist\"},\"params\":{},\"i\":0}}]}\\' id=\"mwKQ\">.mw-parser-output .reflist{font-size:90%;margin-bottom:0.5em;list-style-type:decimal}.mw-parser-output .reflist .references{font-size:100%;margin-bottom:0;list-style-type:inherit}.mw-parser-output .reflist-columns-2{column-width:30em}.mw-parser-output .reflist-columns-3{column-width:25em}.mw-parser-output .reflist-columns{margin-top:0.3em}.mw-parser-output .reflist-columns ol{margin-top:0}.mw-parser-output .reflist-columns li{page-break-inside:avoid;break-inside:avoid-column}.mw-parser-output .reflist-upper-alpha{list-style-type:upper-alpha}.mw-parser-output .reflist-upper-roman{list-style-type:upper-roman}.mw-parser-output .reflist-lower-alpha{list-style-type:lower-alpha}.mw-parser-output .reflist-lower-greek{list-style-type:lower-greek}.mw-parser-output .reflist-lower-roman{list-style-type:lower-roman}</style><div class=\"reflist   \" about=\"#mwt34\" id=\"mwKg\">\\n<div class=\"mw-references-wrap\" typeof=\"mw:Extension/references\" about=\"#mwt38\" data-mw=\\'{\"name\":\"references\",\"attrs\":{\"group\":\"\",\"responsive\":\"1\"},\"body\":{\"html\":\"\"}}\\' id=\"mwKw\"><ol class=\"mw-references references\" id=\"mwLA\"><li about=\"#cite_note-1\" id=\"cite_note-1\"><a href=\"./Glencoe_Station#cite_ref-1\" rel=\"mw:referencedBy\" id=\"mwLQ\"><span class=\"mw-linkback-text\" id=\"mwLg\">↑ </span></a> <span id=\"mw-reference-text-cite_note-1\" class=\"mw-reference-text\"><style data-mw-deduplicate=\"TemplateStyles:r1133582631\" typeof=\"mw:Extension/templatestyles mw:Transclusion\" about=\"#mwt15\" data-mw=\\'{\"parts\":[{\"template\":{\"target\":{\"wt\":\"cite news \",\"href\":\"./Template:Cite_news\"},\"params\":{\"url\":{\"wt\":\"http://nla.gov.au/nla.news-article80313050\"},\"title\":{\"wt\":\"Sale of a Station.\"},\"newspaper\":{\"wt\":\"[[The Northern Miner (Queensland)|The Northern Miner]]\"},\"location\":{\"wt\":\"Charters Towers, Qld.\"},\"date\":{\"wt\":\"15 March 1909\"},\"accessdate\":{\"wt\":\"25 November 2012\"},\"page\":{\"wt\":\"6\"},\"publisher\":{\"wt\":\"National Library of Australia\"}},\"i\":0}}]}\\' id=\"mwLw\">.mw-parser-output cite.citation{font-style:inherit;word-wrap:break-word}.mw-parser-output .citation q{quotes:\"\\\\\"\"\"\\\\\"\"\"\\'\"\"\\'\"}.mw-parser-output .citation:target{background-color:rgba(0,127,255,0.133)}.mw-parser-output .id-lock-free a,.mw-parser-output .citation .cs1-lock-free a{background:url(\"//upload.wikimedia.org/wikipedia/commons/6/65/Lock-green.svg\")right 0.1em center/9px no-repeat}.mw-parser-output .id-lock-limited a,.mw-parser-output .id-lock-registration a,.mw-parser-output .citation .cs1-lock-limited a,.mw-parser-output .citation .cs1-lock-registration a{background:url(\"//upload.wikimedia.org/wikipedia/commons/d/d6/Lock-gray-alt-2.svg\")right 0.1em center/9px no-repeat}.mw-parser-output .id-lock-subscription a,.mw-parser-output .citation .cs1-lock-subscription a{background:url(\"//upload.wikimedia.org/wikipedia/commons/a/aa/Lock-red-alt-2.svg\")right 0.1em center/9px no-repeat}.mw-parser-output .cs1-ws-icon a{background:url(\"//upload.wikimedia.org/wikipedia/commons/4/4c/Wikisource-logo.svg\")right 0.1em center/12px no-repeat}.mw-parser-output .cs1-code{color:inherit;background:inherit;border:none;padding:inherit}.mw-parser-output .cs1-hidden-error{display:none;color:#d33}.mw-parser-output .cs1-visible-error{color:#d33}.mw-parser-output .cs1-maint{display:none;color:#3a3;margin-left:0.3em}.mw-parser-output .cs1-format{font-size:95%}.mw-parser-output .cs1-kern-left{padding-left:0.2em}.mw-parser-output .cs1-kern-right{padding-right:0.2em}.mw-parser-output .citation .mw-selflink{font-weight:inherit}</style><cite class=\"citation news cs1 cs1-prop-jul-greg-uncertainty\" about=\"#mwt15\" id=\"mwMA\"><a rel=\"mw:ExtLink nofollow\" href=\"http://nla.gov.au/nla.news-article80313050\" class=\"external text\" id=\"mwMQ\">\"Sale of a Station\"</a>. <i id=\"mwMg\"><a rel=\"mw:WikiLink\" href=\"./The_Northern_Miner_(Queensland)\" title=\"The Northern Miner (Queensland)\" id=\"mwMw\">The Northern Miner</a></i>. Charters Towers, Qld.: National Library of Australia. 15 March 1909. p.<span typeof=\"mw:Entity\" id=\"mwNA\">\\xa0</span>6<span class=\"reference-accessdate\" id=\"mwNQ\">. Retrieved <span class=\"nowrap\" id=\"mwNg\">25 November</span> 2012</span>.</cite><span title=\"ctx_ver=Z39.88-2004&amp;rft_val_fmt=info%3Aofi%2Ffmt%3Akev%3Amtx%3Ajournal&amp;rft.genre=article&amp;rft.jtitle=The+Northern+Miner&amp;rft.atitle=Sale+of+a+Station.&amp;rft.pages=6&amp;rft.date=1909-03-15&amp;rft_id=http%3A%2F%2Fnla.gov.au%2Fnla.news-article80313050&amp;rfr_id=info%3Asid%2Fen.wikipedia.org%3AGlencoe+Station\" class=\"Z3988\" about=\"#mwt15\" id=\"mwNw\"></span><link rel=\"mw:PageProp/Category\" href=\"./Category:CS1:_Julian–Gregorian_uncertainty\" about=\"#mwt15\" id=\"mwOA\"/></span></li><li about=\"#cite_note-2\" id=\"cite_note-2\"><a href=\"./Glencoe_Station#cite_ref-2\" rel=\"mw:referencedBy\" id=\"mwOQ\"><span class=\"mw-linkback-text\" id=\"mwOg\">↑ </span></a> <span id=\"mw-reference-text-cite_note-2\" class=\"mw-reference-text\"><link rel=\"mw-deduplicated-inline-style\" href=\"mw-data:TemplateStyles:r1133582631\" about=\"#mwt20\" typeof=\"mw:Extension/templatestyles mw:Transclusion\" data-mw=\\'{\"parts\":[{\"template\":{\"target\":{\"wt\":\"cite news \",\"href\":\"./Template:Cite_news\"},\"params\":{\"url\":{\"wt\":\"http://nla.gov.au/nla.news-article36710606\"},\"title\":{\"wt\":\"Glencoe Station burned\"},\"newspaper\":{\"wt\":\"[[The Courier-Mail]]\"},\"location\":{\"wt\":\"Brisbane\"},\"date\":{\"wt\":\"9 May 1934\"},\"accessdate\":{\"wt\":\"28 November 2012\"},\"page\":{\"wt\":\"10\"},\"publisher\":{\"wt\":\"National Library of Australia\"}},\"i\":0}}]}\\' id=\"mwOw\"/><cite class=\"citation news cs1\" about=\"#mwt20\" id=\"mwPA\"><a rel=\"mw:ExtLink nofollow\" href=\"http://nla.gov.au/nla.news-article36710606\" class=\"external text\" id=\"mwPQ\">\"Glencoe Station burned\"</a>. <i id=\"mwPg\"><a rel=\"mw:WikiLink\" href=\"./The_Courier-Mail\" title=\"The Courier-Mail\" id=\"mwPw\">The Courier-Mail</a></i>. Brisbane: National Library of Australia. 9 May 1934. p.<span typeof=\"mw:Entity\" id=\"mwQA\">\\xa0</span>10<span class=\"reference-accessdate\" id=\"mwQQ\">. Retrieved <span class=\"nowrap\" id=\"mwQg\">28 November</span> 2012</span>.</cite><span title=\"ctx_ver=Z39.88-2004&amp;rft_val_fmt=info%3Aofi%2Ffmt%3Akev%3Amtx%3Ajournal&amp;rft.genre=article&amp;rft.jtitle=The+Courier-Mail&amp;rft.atitle=Glencoe+Station+burned&amp;rft.pages=10&amp;rft.date=1934-05-09&amp;rft_id=http%3A%2F%2Fnla.gov.au%2Fnla.news-article36710606&amp;rfr_id=info%3Asid%2Fen.wikipedia.org%3AGlencoe+Station\" class=\"Z3988\" about=\"#mwt20\" id=\"mwQw\"></span></span></li><li about=\"#cite_note-3\" id=\"cite_note-3\"><a href=\"./Glencoe_Station#cite_ref-3\" rel=\"mw:referencedBy\" id=\"mwRA\"><span class=\"mw-linkback-text\" id=\"mwRQ\">↑ </span></a> <span id=\"mw-reference-text-cite_note-3\" class=\"mw-reference-text\"><link rel=\"mw-deduplicated-inline-style\" href=\"mw-data:TemplateStyles:r1133582631\" about=\"#mwt25\" typeof=\"mw:Extension/templatestyles mw:Transclusion\" data-mw=\\'{\"parts\":[{\"template\":{\"target\":{\"wt\":\"cite news \",\"href\":\"./Template:Cite_news\"},\"params\":{\"url\":{\"wt\":\"http://nla.gov.au/nla.news-article49931189\"},\"title\":{\"wt\":\"Noon-day thirst\"},\"newspaper\":{\"wt\":\"[[The Courier-Mail]]\"},\"location\":{\"wt\":\"Brisbane\"},\"date\":{\"wt\":\"13 December 1948\"},\"accessdate\":{\"wt\":\"28 November 2012\"},\"page\":{\"wt\":\"3\"},\"publisher\":{\"wt\":\"National Library of Australia\"}},\"i\":0}}]}\\' id=\"mwRg\"/><cite class=\"citation news cs1\" about=\"#mwt25\" id=\"mwRw\"><a rel=\"mw:ExtLink nofollow\" href=\"http://nla.gov.au/nla.news-article49931189\" class=\"external text\" id=\"mwSA\">\"Noon-day thirst\"</a>. <i id=\"mwSQ\"><a rel=\"mw:WikiLink\" href=\"./The_Courier-Mail\" title=\"The Courier-Mail\" id=\"mwSg\">The Courier-Mail</a></i>. Brisbane: National Library of Australia. 13 December 1948. p.<span typeof=\"mw:Entity\" id=\"mwSw\">\\xa0</span>3<span class=\"reference-accessdate\" id=\"mwTA\">. Retrieved <span class=\"nowrap\" id=\"mwTQ\">28 November</span> 2012</span>.</cite><span title=\"ctx_ver=Z39.88-2004&amp;rft_val_fmt=info%3Aofi%2Ffmt%3Akev%3Amtx%3Ajournal&amp;rft.genre=article&amp;rft.jtitle=The+Courier-Mail&amp;rft.atitle=Noon-day+thirst&amp;rft.pages=3&amp;rft.date=1948-12-13&amp;rft_id=http%3A%2F%2Fnla.gov.au%2Fnla.news-article49931189&amp;rfr_id=info%3Asid%2Fen.wikipedia.org%3AGlencoe+Station\" class=\"Z3988\" about=\"#mwt25\" id=\"mwTg\"></span></span></li><li about=\"#cite_note-4\" id=\"cite_note-4\"><a href=\"./Glencoe_Station#cite_ref-4\" rel=\"mw:referencedBy\" id=\"mwTw\"><span class=\"mw-linkback-text\" id=\"mwUA\">↑ </span></a> <span id=\"mw-reference-text-cite_note-4\" class=\"mw-reference-text\"><link rel=\"mw-deduplicated-inline-style\" href=\"mw-data:TemplateStyles:r1133582631\" about=\"#mwt30\" typeof=\"mw:Extension/templatestyles mw:Transclusion\" data-mw=\\'{\"parts\":[{\"template\":{\"target\":{\"wt\":\"cite news \",\"href\":\"./Template:Cite_news\"},\"params\":{\"url\":{\"wt\":\"http://www.abc.net.au/local/stories/2008/01/30/2150375.htm\"},\"title\":{\"wt\":\"Major flooding around Cunnamulla\"},\"author\":{\"wt\":\"Julia Harris\"},\"location\":{\"wt\":\"Queensland\"},\"date\":{\"wt\":\"30 January 2008\"},\"accessdate\":{\"wt\":\"25 November 2012\"},\"publisher\":{\"wt\":\"[[Australian Broadcasting Corporation|ABC]]\"}},\"i\":0}}]}\\' id=\"mwUQ\"/><cite id=\"CITEREFJulia_Harris2008\" class=\"citation news cs1\" about=\"#mwt30\">Julia Harris (30 January 2008). <a rel=\"mw:ExtLink nofollow\" href=\"http://www.abc.net.au/local/stories/2008/01/30/2150375.htm\" class=\"external text\" id=\"mwUg\">\"Major flooding around Cunnamulla\"</a>. Queensland: <a rel=\"mw:WikiLink\" href=\"./Australian_Broadcasting_Corporation\" title=\"Australian Broadcasting Corporation\" id=\"mwUw\">ABC</a><span class=\"reference-accessdate\" id=\"mwVA\">. Retrieved <span class=\"nowrap\" id=\"mwVQ\">25 November</span> 2012</span>.</cite><span title=\"ctx_ver=Z39.88-2004&amp;rft_val_fmt=info%3Aofi%2Ffmt%3Akev%3Amtx%3Ajournal&amp;rft.genre=article&amp;rft.atitle=Major+flooding+around+Cunnamulla&amp;rft.date=2008-01-30&amp;rft.au=Julia+Harris&amp;rft_id=http%3A%2F%2Fwww.abc.net.au%2Flocal%2Fstories%2F2008%2F01%2F30%2F2150375.htm&amp;rfr_id=info%3Asid%2Fen.wikipedia.org%3AGlencoe+Station\" class=\"Z3988\" about=\"#mwt30\" id=\"mwVg\"></span></span></li></ol></div></div>\\n\\n<p id=\"mwVw\"><span class=\"geo-inline-hidden noexcerpt\" about=\"#mwt39\" typeof=\"mw:Transclusion\" data-mw=\\'{\"parts\":[{\"template\":{\"target\":{\"wt\":\"Coord\",\"href\":\"./Template:Coord\"},\"params\":{\"1\":{\"wt\":\"28\"},\"2\":{\"wt\":\"13\"},\"3\":{\"wt\":\"01\"},\"4\":{\"wt\":\"S\"},\"5\":{\"wt\":\"145\"},\"6\":{\"wt\":\"42\"},\"7\":{\"wt\":\"44\"},\"8\":{\"wt\":\"E\"},\"9\":{\"wt\":\"type:landmark_region:AU-WA\"},\"display\":{\"wt\":\"title\"}},\"i\":0}}]}\\' id=\"mwWA\"><style data-mw-deduplicate=\"TemplateStyles:r1156832818\" typeof=\"mw:Extension/templatestyles\" about=\"#mwt42\" data-mw=\\'{\"name\":\"templatestyles\",\"attrs\":{\"src\":\"Module:Coordinates/styles.css\"},\"body\":{\"extsrc\":\"\"}}\\'>.mw-parser-output .geo-default,.mw-parser-output .geo-dms,.mw-parser-output .geo-dec{display:inline}.mw-parser-output .geo-nondefault,.mw-parser-output .geo-multi-punct,.mw-parser-output .geo-inline-hidden{display:none}.mw-parser-output .longitude,.mw-parser-output .latitude{white-space:nowrap}</style><span class=\"plainlinks nourlexpansion load-gadget\" data-gadget=\"WikiMiniAtlas\"><a rel=\"mw:ExtLink\" href=\"https://geohack.toolforge.org/geohack.php?pagename=Glencoe_Station&amp;params=28_13_01_S_145_42_44_E_type:landmark_region:AU-WA\" class=\"external text\"><span class=\"geo-default\"><span class=\"geo-dms\" title=\"Maps, aerial photos, and other data for this location\"><span class=\"latitude\">28°13′01″S</span> <span class=\"longitude\">145°42′44″E</span></span></span><span class=\"geo-multi-punct\"><span typeof=\"mw:Entity\">\\ufeff</span> / <span typeof=\"mw:Entity\">\\ufeff</span></span><span class=\"geo-nondefault\"><span class=\"geo-dec\" title=\"Maps, aerial photos, and other data for this location\">28.21694°S 145.71222°E</span><span style=\"display:none\"><span typeof=\"mw:Entity\">\\ufeff</span> / <span class=\"geo\">-28.21694; 145.71222</span></span></span></a></span></span><meta typeof=\"mw:Extension/indicator\" about=\"#mwt39\" data-mw=\\'{\"name\":\"indicator\",\"attrs\":{\"name\":\"coordinates\"},\"body\":{\"extsrc\":\"&lt;span id=\\\\\"coordinates\\\\\">[[Geographic coordinate system|Coordinates]]: &lt;templatestyles src=\\\\\"Module:Coordinates/styles.css\\\\\">&lt;/templatestyles>&lt;span class=\\\\\"plainlinks nourlexpansion load-gadget\\\\\" data-gadget=\\\\\"WikiMiniAtlas\\\\\">[https://geohack.toolforge.org/geohack.php?pagename=Glencoe_Station&amp;params=28_13_01_S_145_42_44_E_type:landmark_region:AU-WA &lt;span class=\\\\\"geo-default\\\\\">&lt;span class=\\\\\"geo-dms\\\\\" title=\\\\\"Maps, aerial photos, and other data for this location\\\\\">&lt;span class=\\\\\"latitude\\\\\">28°13′01″S&lt;/span> &lt;span class=\\\\\"longitude\\\\\">145°42′44″E&lt;/span>&lt;/span>&lt;/span>&lt;span class=\\\\\"geo-multi-punct\\\\\">&amp;#xfeff; / &amp;#xfeff;&lt;/span>&lt;span class=\\\\\"geo-nondefault\\\\\">&lt;span class=\\\\\"geo-dec\\\\\" title=\\\\\"Maps, aerial photos, and other data for this location\\\\\">28.21694°S 145.71222°E&lt;/span>&lt;span style=\\\\\"display:none\\\\\">&amp;#xfeff; / &lt;span class=\\\\\"geo\\\\\">-28.21694; 145.71222&lt;/span>&lt;/span>&lt;/span>]&lt;/span>&lt;/span>\"},\"html\":\"&lt;span id=\\\\\"coordinates\\\\\" data-parsoid=&apos;{\\\\\"stx\\\\\":\\\\\"html\\\\\"}&apos;>&lt;a rel=\\\\\"mw:WikiLink\\\\\" href=\\\\\"./Geographic_coordinate_system\\\\\" title=\\\\\"Geographic coordinate system\\\\\" data-parsoid=&apos;{\\\\\"stx\\\\\":\\\\\"piped\\\\\",\\\\\"a\\\\\":{\\\\\"href\\\\\":\\\\\"./Geographic_coordinate_system\\\\\"},\\\\\"sa\\\\\":{\\\\\"href\\\\\":\\\\\"Geographic coordinate system\\\\\"}}&apos;>Coordinates&lt;/a>: &lt;style data-mw-deduplicate=\\\\\"TemplateStyles:r1156832818\\\\\" typeof=\\\\\"mw:Extension/templatestyles\\\\\" about=\\\\\"#mwt44\\\\\" data-parsoid=\\\\\"{}\\\\\" data-mw=&apos;{\\\\\"name\\\\\":\\\\\"templatestyles\\\\\",\\\\\"attrs\\\\\":{\\\\\"src\\\\\":\\\\\"Module:Coordinates/styles.css\\\\\"},\\\\\"body\\\\\":{\\\\\"extsrc\\\\\":\\\\\"\\\\\"}}&apos;>.mw-parser-output .geo-default,.mw-parser-output .geo-dms,.mw-parser-output .geo-dec{display:inline}.mw-parser-output .geo-nondefault,.mw-parser-output .geo-multi-punct,.mw-parser-output .geo-inline-hidden{display:none}.mw-parser-output .longitude,.mw-parser-output .latitude{white-space:nowrap}&lt;/style>&lt;span class=\\\\\"plainlinks nourlexpansion load-gadget\\\\\" data-gadget=\\\\\"WikiMiniAtlas\\\\\" data-parsoid=&apos;{\\\\\"stx\\\\\":\\\\\"html\\\\\"}&apos;>&lt;a rel=\\\\\"mw:ExtLink\\\\\" href=\\\\\"https://geohack.toolforge.org/geohack.php?pagename=Glencoe_Station&amp;amp;params=28_13_01_S_145_42_44_E_type:landmark_region:AU-WA\\\\\" data-parsoid=\\\\\"{}\\\\\">&lt;span class=\\\\\"geo-default\\\\\" data-parsoid=&apos;{\\\\\"stx\\\\\":\\\\\"html\\\\\"}&apos;>&lt;span class=\\\\\"geo-dms\\\\\" title=\\\\\"Maps, aerial photos, and other data for this location\\\\\" data-parsoid=&apos;{\\\\\"stx\\\\\":\\\\\"html\\\\\"}&apos;>&lt;span class=\\\\\"latitude\\\\\" data-parsoid=&apos;{\\\\\"stx\\\\\":\\\\\"html\\\\\"}&apos;>28°13′01″S&lt;/span> &lt;span class=\\\\\"longitude\\\\\" data-parsoid=&apos;{\\\\\"stx\\\\\":\\\\\"html\\\\\"}&apos;>145°42′44″E&lt;/span>&lt;/span>&lt;/span>&lt;span class=\\\\\"geo-multi-punct\\\\\" data-parsoid=&apos;{\\\\\"stx\\\\\":\\\\\"html\\\\\"}&apos;>&lt;span typeof=\\\\\"mw:Entity\\\\\" data-parsoid=&apos;{\\\\\"src\\\\\":\\\\\"&amp;amp;#xfeff;\\\\\",\\\\\"srcContent\\\\\":\\\\\"\\ufeff\\\\\"}&apos;>\\ufeff&lt;/span> / &lt;span typeof=\\\\\"mw:Entity\\\\\" data-parsoid=&apos;{\\\\\"src\\\\\":\\\\\"&amp;amp;#xfeff;\\\\\",\\\\\"srcContent\\\\\":\\\\\"\\ufeff\\\\\"}&apos;>\\ufeff&lt;/span>&lt;/span>&lt;span class=\\\\\"geo-nondefault\\\\\" data-parsoid=&apos;{\\\\\"stx\\\\\":\\\\\"html\\\\\"}&apos;>&lt;span class=\\\\\"geo-dec\\\\\" title=\\\\\"Maps, aerial photos, and other data for this location\\\\\" data-parsoid=&apos;{\\\\\"stx\\\\\":\\\\\"html\\\\\"}&apos;>28.21694°S 145.71222°E&lt;/span>&lt;span style=\\\\\"display:none\\\\\" data-parsoid=&apos;{\\\\\"stx\\\\\":\\\\\"html\\\\\"}&apos;>&lt;span typeof=\\\\\"mw:Entity\\\\\" data-parsoid=&apos;{\\\\\"src\\\\\":\\\\\"&amp;amp;#xfeff;\\\\\",\\\\\"srcContent\\\\\":\\\\\"\\ufeff\\\\\"}&apos;>\\ufeff&lt;/span> / &lt;span class=\\\\\"geo\\\\\" data-parsoid=&apos;{\\\\\"stx\\\\\":\\\\\"html\\\\\"}&apos;>-28.21694; 145.71222&lt;/span>&lt;/span>&lt;/span>&lt;/a>&lt;/span>&lt;/span>\"}\\' id=\"mwWQ\"/><link rel=\"mw:PageProp/Category\" href=\"./Category:Coordinates_on_Wikidata\" about=\"#mwt39\" id=\"mwWg\"/></p>\\n\\n<link rel=\"mw:PageProp/Category\" href=\"./Category:Stations_in_Queensland\" id=\"mwWw\"/>\\n<link rel=\"mw:PageProp/Category\" href=\"./Category:South_West_Queensland\" id=\"mwXA\"/></section></body></html>'"
      ]
     },
     "execution_count": 36,
     "metadata": {},
     "output_type": "execute_result"
    }
   ],
   "source": [
    "r.text"
   ]
  },
  {
   "cell_type": "code",
   "execution_count": 37,
   "metadata": {},
   "outputs": [
    {
     "name": "stdout",
     "output_type": "stream",
     "text": [
      "Categories: Articles with short description\n",
      "Categories: Short description matches Wikidata\n",
      "Categories: Use Australian English from June 2020\n",
      "Categories: All Wikipedia articles written in Australian English\n",
      "Categories: Use dmy dates from August 2019\n",
      "Categories: CS1: Julian–Gregorian uncertainty\n",
      "Categories: Coordinates on Wikidata\n",
      "Categories: Stations in Queensland\n",
      "Categories: South West Queensland\n"
     ]
    }
   ],
   "source": [
    "#check categories for article\n",
    "for category in article.wikistew.get_categories():\n",
    "    print(f\"Categories: {category.title}\")"
   ]
  },
  {
   "cell_type": "code",
   "execution_count": 38,
   "metadata": {},
   "outputs": [
    {
     "name": "stdout",
     "output_type": "stream",
     "text": [
      "Glencoe Station is located in Queensland\n"
     ]
    }
   ],
   "source": [
    "#printing image caption\n",
    "for image in article.wikistew.get_images():\n",
    "    if image.caption != \"\":\n",
    "        print(image.caption) "
   ]
  },
  {
   "cell_type": "markdown",
   "metadata": {},
   "source": [
    "extract copyright info"
   ]
  },
  {
   "cell_type": "code",
   "execution_count": 39,
   "metadata": {},
   "outputs": [],
   "source": [
    "url = \"https://commons.wikimedia.org/wiki/File:WilhelmWeitling.jpg\"\n",
    "url = \"https://commons.wikimedia.org/wiki/File:Anthony-Hunt_(3).png\""
   ]
  },
  {
   "cell_type": "code",
   "execution_count": 40,
   "metadata": {},
   "outputs": [],
   "source": [
    "r = requests.get(url)\n",
    "#article = Article(r.text)"
   ]
  },
  {
   "cell_type": "code",
   "execution_count": 42,
   "metadata": {},
   "outputs": [
    {
     "ename": "AttributeError",
     "evalue": "'NoneType' object has no attribute 'get'",
     "output_type": "error",
     "traceback": [
      "\u001b[0;31m---------------------------------------------------------------------------\u001b[0m",
      "\u001b[0;31mAttributeError\u001b[0m                            Traceback (most recent call last)",
      "Cell \u001b[0;32mIn[42], line 10\u001b[0m\n\u001b[1;32m      7\u001b[0m copyright_tag \u001b[38;5;241m=\u001b[39m soup\u001b[38;5;241m.\u001b[39mfind(\u001b[38;5;124m'\u001b[39m\u001b[38;5;124mwbCopyright\u001b[39m\u001b[38;5;124m'\u001b[39m)\n\u001b[1;32m      9\u001b[0m \u001b[38;5;66;03m# Extract the copyright message\u001b[39;00m\n\u001b[0;32m---> 10\u001b[0m copyright_message \u001b[38;5;241m=\u001b[39m \u001b[43mcopyright_tag\u001b[49m\u001b[38;5;241;43m.\u001b[39;49m\u001b[43mget\u001b[49m(\u001b[38;5;124m'\u001b[39m\u001b[38;5;124mmessageHtml\u001b[39m\u001b[38;5;124m'\u001b[39m)\n\u001b[1;32m     12\u001b[0m \u001b[38;5;28mprint\u001b[39m(copyright_message)\n",
      "\u001b[0;31mAttributeError\u001b[0m: 'NoneType' object has no attribute 'get'"
     ]
    }
   ],
   "source": [
    "from bs4 import BeautifulSoup\n",
    "\n",
    "# Parse the HTML content\n",
    "soup = BeautifulSoup(r.content, 'html.parser')\n",
    "\n",
    "# Find the relevant tag containing copyright information\n",
    "copyright_tag = soup.find('wbCopyright')\n",
    "\n",
    "# Extract the copyright message\n",
    "copyright_message = copyright_tag.get('messageHtml')\n",
    "\n",
    "print(copyright_message)"
   ]
  },
  {
   "cell_type": "code",
   "execution_count": null,
   "metadata": {},
   "outputs": [],
   "source": []
  }
 ],
 "metadata": {
  "kernelspec": {
   "display_name": "ttds",
   "language": "python",
   "name": "python3"
  },
  "language_info": {
   "codemirror_mode": {
    "name": "ipython",
    "version": 3
   },
   "file_extension": ".py",
   "mimetype": "text/x-python",
   "name": "python",
   "nbconvert_exporter": "python",
   "pygments_lexer": "ipython3",
   "version": "3.8.17"
  }
 },
 "nbformat": 4,
 "nbformat_minor": 2
}
